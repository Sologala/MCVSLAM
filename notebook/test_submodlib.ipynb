{
 "cells": [
  {
   "cell_type": "code",
   "execution_count": 3,
   "metadata": {},
   "outputs": [],
   "source": [
    "import submodlib\n",
    "import numpy as np\n",
    "from matplotlib import pyplot as plt\n",
    "# import cv2"
   ]
  },
  {
   "cell_type": "code",
   "execution_count": 6,
   "metadata": {},
   "outputs": [],
   "source": [
    "def drawHessian(hessian_mat):\n",
    "    fig = plt.figure(figsize =  (10, 10))\n",
    "    ax = plt.gca()\n",
    "    ax.imshow(hessian_mat)"
   ]
  },
  {
   "cell_type": "code",
   "execution_count": 22,
   "metadata": {},
   "outputs": [
    {
     "data": {
      "text/plain": [
       "array([[ 6.57223932e+08, -2.05118060e+08,  2.08761905e+07, ...,\n",
       "         0.00000000e+00,  0.00000000e+00,  0.00000000e+00],\n",
       "       [-2.05118060e+08,  6.35869245e+08, -2.44033344e+06, ...,\n",
       "         0.00000000e+00,  0.00000000e+00,  0.00000000e+00],\n",
       "       [ 2.08761905e+07, -2.44033344e+06,  1.06751679e+08, ...,\n",
       "         0.00000000e+00,  0.00000000e+00,  0.00000000e+00],\n",
       "       ...,\n",
       "       [ 0.00000000e+00,  0.00000000e+00,  0.00000000e+00, ...,\n",
       "         6.09872468e+07,  0.00000000e+00,  7.93637619e+06],\n",
       "       [ 0.00000000e+00,  0.00000000e+00,  0.00000000e+00, ...,\n",
       "         0.00000000e+00,  6.09872468e+07,  4.15641686e+07],\n",
       "       [ 0.00000000e+00,  0.00000000e+00,  0.00000000e+00, ...,\n",
       "         7.93637619e+06,  4.15641686e+07,  2.11611389e+08]])"
      ]
     },
     "execution_count": 22,
     "metadata": {},
     "output_type": "execute_result"
    }
   ],
   "source": [
    "def loadSparseMatrix(matrix_file):\n",
    "    with open(matrix_file, 'r') as f:\n",
    "        temp = f.readlines()\n",
    "        assert(len(temp) >= 4)\n",
    "        col = int(temp[4].split(' ')[-1])\n",
    "        row = int(temp[3].split(' ')[-1])\n",
    "        mat = np.zeros((row, col), dtype= float)\n",
    "        for d in temp[6:]:\n",
    "            dd =  list(map(float, d.split(' ')))\n",
    "            x , y = tuple(map(int, dd[:-1]))\n",
    "            v = dd[-1]\n",
    "            mat[x - 1, y - 1] = v\n",
    "    return mat\n",
    "mat = loadSparseMatrix(\"../before.txt\")\n",
    "mat"
   ]
  },
  {
   "cell_type": "code",
   "execution_count": 23,
   "metadata": {},
   "outputs": [
    {
     "data": {
      "image/png": "[encoded data removed]",
      "text/plain": [
       "<Figure size 720x720 with 1 Axes>"
      ]
     },
     "metadata": {
      "needs_background": "light"
     },
     "output_type": "display_data"
    }
   ],
   "source": [
    "drawHessian(mat)"
   ]
  },
  {
   "cell_type": "code",
   "execution_count": null,
   "metadata": {},
   "outputs": [],
   "source": []
  }
 ],
 "metadata": {
  "interpreter": {
   "hash": "8abebe8005d4c8eacf482c24bc758ac850357e7289be48ad4b7eb5de2fbfe4e1"
  },
  "kernelspec": {
   "display_name": "Python 3.6.13 ('submod')",
   "language": "python",
   "name": "python3"
  },
  "language_info": {
   "codemirror_mode": {
    "name": "ipython",
    "version": 3
   },
   "file_extension": ".py",
   "mimetype": "text/x-python",
   "name": "python",
   "nbconvert_exporter": "python",
   "pygments_lexer": "ipython3",
   "version": "3.6.13"
  },
  "orig_nbformat": 4
 },
 "nbformat": 4,
 "nbformat_minor": 2
}
