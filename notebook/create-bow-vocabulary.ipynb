{
 "cells": [
  {
   "cell_type": "code",
   "execution_count": 1,
   "metadata": {},
   "outputs": [],
   "source": [
    "with open(\"vis_images.txt\", 'r') as f:\n",
    "    data = f.read().splitlines()"
   ]
  },
  {
   "cell_type": "code",
   "execution_count": 2,
   "metadata": {},
   "outputs": [],
   "source": [
    "import cv2\n",
    "import numpy as np\n",
    "from matplotlib import pyplot as plt\n",
    "import FeatureExtract as F\n",
    "from multiprocessing import Process, Pool\n",
    "from random import sample\n",
    "from tqdm import tqdm\n",
    "from pyDBow3 import Vocabulary\n",
    "method = \"SIFT\"\n",
    "n = 2000\n",
    "matcher = F.getmatcher(method)"
   ]
  },
  {
   "cell_type": "code",
   "execution_count": 3,
   "metadata": {},
   "outputs": [
    {
     "name": "stdout",
     "output_type": "stream",
     "text": [
      "20000 <class 'list'>\n"
     ]
    }
   ],
   "source": [
    "n_imgs= min(20000, len(data))\n",
    "data = sample(data, n_imgs)\n",
    "print(len(data),type(data))\n",
    "n_worker = 8\n",
    "seg_len = len(data) // n_worker\n",
    "data_work = [data[i: i + seg_len] for i in range(0, len(data), seg_len)]"
   ]
  },
  {
   "cell_type": "code",
   "execution_count": 4,
   "metadata": {},
   "outputs": [],
   "source": [
    "def process(_data, id):\n",
    "    print(len(_data))\n",
    "    desps = []\n",
    "    for imgpath in tqdm(_data):\n",
    "        imgname = imgpath.split(\"/\")[-1].split(\".\")[0]\n",
    "        img = cv2.imread(imgpath, cv2.IMREAD_GRAYSCALE)\n",
    "        if img is None:\n",
    "            print(imgname)\n",
    "        kp, desp = F.extract(img, n, 3, method)\n",
    "        desps.append(desp)\n",
    "    desps_all = np.vstack(desps)\n",
    "    print(\"worker {} done \".format(id))\n",
    "    np.save(\"all_features{}_{}_{}.npy\".format(method,id, n_imgs), desps_all) "
   ]
  },
  {
   "cell_type": "code",
   "execution_count": 5,
   "metadata": {},
   "outputs": [
    {
     "name": "stdout",
     "output_type": "stream",
     "text": [
      "2500\n"
     ]
    },
    {
     "name": "stderr",
     "output_type": "stream",
     "text": [
      "  0%|          | 0/2500 [00:00<?, ?it/s]"
     ]
    },
    {
     "name": "stdout",
     "output_type": "stream",
     "text": [
      "2500\n",
      "2500\n"
     ]
    },
    {
     "name": "stderr",
     "output_type": "stream",
     "text": [
      "  0%|          | 0/2500 [00:00<?, ?it/s]"
     ]
    },
    {
     "name": "stdout",
     "output_type": "stream",
     "text": [
      "2500\n",
      "2500\n"
     ]
    },
    {
     "name": "stderr",
     "output_type": "stream",
     "text": [
      "  0%|          | 0/2500 [00:00<?, ?it/s]"
     ]
    },
    {
     "name": "stdout",
     "output_type": "stream",
     "text": [
      "2500\n"
     ]
    },
    {
     "name": "stderr",
     "output_type": "stream",
     "text": [
      "  0%|          | 0/2500 [00:00<?, ?it/s]"
     ]
    },
    {
     "name": "stdout",
     "output_type": "stream",
     "text": [
      "2500\n"
     ]
    },
    {
     "name": "stderr",
     "output_type": "stream",
     "text": [
      "  0%|          | 0/2500 [00:00<?, ?it/s]"
     ]
    },
    {
     "name": "stdout",
     "output_type": "stream",
     "text": [
      "2500\n"
     ]
    },
    {
     "name": "stderr",
     "output_type": "stream",
     "text": [
      " 99%|█████████▊| 2467/2500 [28:41<00:21,  1.53it/s]\n",
      "100%|█████████▉| 2489/2500 [28:46<00:05,  1.88it/s]\n",
      "100%|██████████| 2500/2500 [28:56<00:00,  1.44it/s]\n",
      "100%|██████████| 2500/2500 [29:01<00:00,  1.44it/s]\n",
      "100%|█████████▉| 2493/2500 [29:02<00:12,  1.75s/it]"
     ]
    },
    {
     "name": "stdout",
     "output_type": "stream",
     "text": [
      "worker 1 done \n"
     ]
    },
    {
     "name": "stderr",
     "output_type": "stream",
     "text": [
      "100%|██████████| 2500/2500 [29:08<00:00,  1.43it/s]\n",
      "100%|██████████| 2500/2500 [29:10<00:00,  1.43it/s]\n",
      "100%|██████████| 2500/2500 [29:11<00:00,  1.43it/s]\n",
      "100%|██████████| 2500/2500 [29:11<00:00,  1.43it/s]\n"
     ]
    },
    {
     "name": "stdout",
     "output_type": "stream",
     "text": [
      "worker 3 done \n",
      "worker 5 done \n",
      "worker 4 done \n",
      "worker 6 done \n",
      "worker 2 done \n"
     ]
    }
   ],
   "source": [
    "with Pool(8) as pool:\n",
    "    list(tqdm(iterable=(pool.starmap(process, zip(data_work, range(len(data_work))))), total=len(data_work)))"
   ]
  },
  {
   "cell_type": "code",
   "execution_count": 4,
   "metadata": {},
   "outputs": [],
   "source": [
    "# load all saved npy \n",
    "import glob \n",
    "desp_files = glob.glob(\"all_features{}_*_{}.npy\".format(method,n_imgs))\n",
    "desps = []\n",
    "for file in desp_files:\n",
    "    desps.append(np.load(file))\n",
    "    break\n",
    "desps = np.vstack(desps)"
   ]
  },
  {
   "cell_type": "code",
   "execution_count": null,
   "metadata": {},
   "outputs": [],
   "source": [
    "Level = 4\n",
    "for Level in [4, 3]:\n",
    "    voc = Vocabulary(K=10, L=Level,weight_method= \"TF_IDF\", score_method = \"L2_NORM\")\n",
    "    voc.create(desps)\n",
    "    voc.saveToFile(\"{}_visdrone_{}_{}.voc\".format(method,Level, n_imgs))"
   ]
  },
  {
   "cell_type": "code",
   "execution_count": null,
   "metadata": {},
   "outputs": [],
   "source": []
  }
 ],
 "metadata": {
  "interpreter": {
   "hash": "8abebe8005d4c8eacf482c24bc758ac850357e7289be48ad4b7eb5de2fbfe4e1"
  },
  "kernelspec": {
   "display_name": "Python 3.6.13 ('submod')",
   "language": "python",
   "name": "python3"
  },
  "language_info": {
   "codemirror_mode": {
    "name": "ipython",
    "version": 3
   },
   "file_extension": ".py",
   "mimetype": "text/x-python",
   "name": "python",
   "nbconvert_exporter": "python",
   "pygments_lexer": "ipython3",
   "version": "3.6.13"
  },
  "orig_nbformat": 4
 },
 "nbformat": 4,
 "nbformat_minor": 2
}
